{
  "nbformat": 4,
  "nbformat_minor": 0,
  "metadata": {
    "colab": {
      "name": "Previsao preço carbono.ipynb",
      "provenance": [],
      "collapsed_sections": []
    },
    "kernelspec": {
      "name": "python3",
      "display_name": "Python 3"
    },
    "language_info": {
      "name": "python"
    }
  },
  "cells": [
    {
      "cell_type": "code",
      "execution_count": null,
      "metadata": {
        "id": "MPYC1SolMm1c"
      },
      "outputs": [],
      "source": [
        "import pandas as pd\n",
        "import numpy as np\n",
        "import matplotlib.pyplot as plt\n",
        "import seaborn as sn\n",
        "import plotly.express as px\n",
        "from sklearn.model_selection import train_test_split\n",
        "from sklearn import preprocessing\n",
        "from sklearn.impute import SimpleImputer\n",
        "from sklearn.metrics import accuracy_score\n",
        "from sklearn.preprocessing import LabelEncoder\n",
        "from sklearn.ensemble import RandomForestRegressor"
      ]
    },
    {
      "cell_type": "code",
      "source": [
        "data = pd.read_excel('/content/Dados de preço de carbono limpos.xlsx')"
      ],
      "metadata": {
        "id": "vSzmmiRJMuJF"
      },
      "execution_count": null,
      "outputs": []
    },
    {
      "cell_type": "code",
      "source": [
        "data"
      ],
      "metadata": {
        "colab": {
          "base_uri": "https://localhost:8080/",
          "height": 1000
        },
        "id": "yGI6PkBXPm9V",
        "outputId": "905b808e-378b-435c-917c-cdb37ab8521f"
      },
      "execution_count": null,
      "outputs": [
        {
          "output_type": "execute_result",
          "data": {
            "text/plain": [
              "                  Name of the initiative  Price_rate_1_2021  PIBPCT     IDH  \\\n",
              "0                   Argentina carbon tax           5.543044    8579  0.8360   \n",
              "1                          BC carbon tax          35.813768   60707  0.9380   \n",
              "2             Canada federal fuel charge          31.834461   43258  0.9130   \n",
              "3                       Chile carbon tax           5.000000   13231  0.8320   \n",
              "4                    Colombia carbon tax           5.000000    5334  0.7200   \n",
              "5                     Estonia carbon tax           2.349200   23054  0.8610   \n",
              "6                     Finland carbon tax          72.825200   48755  0.8830   \n",
              "7                      France carbon tax          52.387160   39037  0.8880   \n",
              "8                     Iceland carbon tax          34.834930   59264  0.8890   \n",
              "9                     Ireland carbon tax          39.349100   85422  0.9160   \n",
              "10                      Japan carbon tax           2.608539   40193  0.8910   \n",
              "11                     Latvia carbon tax          14.095200   17619  0.8660   \n",
              "12              Liechtenstein carbon tax         101.474552  180366  0.9080   \n",
              "13                 Luxembourg carbon tax          40.124336  116356  0.8920   \n",
              "14                   Manitoba carbon tax          19.896538   51484  0.9050   \n",
              "15                     Mexico carbon tax           3.179550    8329  0.7560   \n",
              "16                Netherlands carbon tax          35.238000   52396  0.8920   \n",
              "17              New Brunswick carbon tax          31.834460   49218  0.8980   \n",
              "18  Newfoundland and Labrador carbon tax          23.875850   71527  0.8940   \n",
              "19      Northwest Territories carbon tax          23.875846  100871  0.9240   \n",
              "20                     Norway carbon tax          69.326326   67329  0.9570   \n",
              "21                     Poland carbon tax           0.078624   15746  0.8430   \n",
              "22                   Portugal carbon tax          28.190400   22194  0.8300   \n",
              "23       Prince Edward Island carbon tax          23.875850   48039  0.9240   \n",
              "24                  Singapore carbon tax           3.713607   59797  0.9120   \n",
              "25                   Slovenia carbon tax          20.320580   25489  0.8800   \n",
              "26               South Africa carbon tax           9.150943    5655  0.6660   \n",
              "27                      Spain carbon tax          17.619000   27056  0.8760   \n",
              "28                     Sweden carbon tax         137.243241   52274  0.9300   \n",
              "29                Switzerland carbon tax         101.474552   87100  0.9550   \n",
              "30                 Tamaulipas carbon tax          12.720160   12160  0.7475   \n",
              "31               UK carbon price support          24.795000   41059  0.9070   \n",
              "32                    Ukraine carbon tax           0.359420    3724  0.7470   \n",
              "33                  Zacatecas carbon tax          12.230920   26469  0.7550   \n",
              "34                                BRAZIL                NaN    6796  0.7550   \n",
              "\n",
              "    GINI  \n",
              "0   42.3  \n",
              "1   41.1  \n",
              "2   33.3  \n",
              "3   44.9  \n",
              "4   54.2  \n",
              "5   30.8  \n",
              "6   27.7  \n",
              "7   32.4  \n",
              "8   26.1  \n",
              "9   30.6  \n",
              "10  32.9  \n",
              "11  34.5  \n",
              "12  35.3  \n",
              "13  34.2  \n",
              "14  33.3  \n",
              "15  45.4  \n",
              "16  29.2  \n",
              "17  33.3  \n",
              "18  33.3  \n",
              "19  33.3  \n",
              "20  27.7  \n",
              "21  30.2  \n",
              "22  32.8  \n",
              "23  33.4  \n",
              "24  23.3  \n",
              "25  24.4  \n",
              "26  63.0  \n",
              "27  34.3  \n",
              "28  29.3  \n",
              "29  33.1  \n",
              "30  45.4  \n",
              "31  35.1  \n",
              "32  25.6  \n",
              "33  45.4  \n",
              "34  48.9  "
            ],
            "text/html": [
              "\n",
              "  <div id=\"df-f5953610-d453-4c88-b484-98ed71e99e16\">\n",
              "    <div class=\"colab-df-container\">\n",
              "      <div>\n",
              "<style scoped>\n",
              "    .dataframe tbody tr th:only-of-type {\n",
              "        vertical-align: middle;\n",
              "    }\n",
              "\n",
              "    .dataframe tbody tr th {\n",
              "        vertical-align: top;\n",
              "    }\n",
              "\n",
              "    .dataframe thead th {\n",
              "        text-align: right;\n",
              "    }\n",
              "</style>\n",
              "<table border=\"1\" class=\"dataframe\">\n",
              "  <thead>\n",
              "    <tr style=\"text-align: right;\">\n",
              "      <th></th>\n",
              "      <th>Name of the initiative</th>\n",
              "      <th>Price_rate_1_2021</th>\n",
              "      <th>PIBPCT</th>\n",
              "      <th>IDH</th>\n",
              "      <th>GINI</th>\n",
              "    </tr>\n",
              "  </thead>\n",
              "  <tbody>\n",
              "    <tr>\n",
              "      <th>0</th>\n",
              "      <td>Argentina carbon tax</td>\n",
              "      <td>5.543044</td>\n",
              "      <td>8579</td>\n",
              "      <td>0.8360</td>\n",
              "      <td>42.3</td>\n",
              "    </tr>\n",
              "    <tr>\n",
              "      <th>1</th>\n",
              "      <td>BC carbon tax</td>\n",
              "      <td>35.813768</td>\n",
              "      <td>60707</td>\n",
              "      <td>0.9380</td>\n",
              "      <td>41.1</td>\n",
              "    </tr>\n",
              "    <tr>\n",
              "      <th>2</th>\n",
              "      <td>Canada federal fuel charge</td>\n",
              "      <td>31.834461</td>\n",
              "      <td>43258</td>\n",
              "      <td>0.9130</td>\n",
              "      <td>33.3</td>\n",
              "    </tr>\n",
              "    <tr>\n",
              "      <th>3</th>\n",
              "      <td>Chile carbon tax</td>\n",
              "      <td>5.000000</td>\n",
              "      <td>13231</td>\n",
              "      <td>0.8320</td>\n",
              "      <td>44.9</td>\n",
              "    </tr>\n",
              "    <tr>\n",
              "      <th>4</th>\n",
              "      <td>Colombia carbon tax</td>\n",
              "      <td>5.000000</td>\n",
              "      <td>5334</td>\n",
              "      <td>0.7200</td>\n",
              "      <td>54.2</td>\n",
              "    </tr>\n",
              "    <tr>\n",
              "      <th>5</th>\n",
              "      <td>Estonia carbon tax</td>\n",
              "      <td>2.349200</td>\n",
              "      <td>23054</td>\n",
              "      <td>0.8610</td>\n",
              "      <td>30.8</td>\n",
              "    </tr>\n",
              "    <tr>\n",
              "      <th>6</th>\n",
              "      <td>Finland carbon tax</td>\n",
              "      <td>72.825200</td>\n",
              "      <td>48755</td>\n",
              "      <td>0.8830</td>\n",
              "      <td>27.7</td>\n",
              "    </tr>\n",
              "    <tr>\n",
              "      <th>7</th>\n",
              "      <td>France carbon tax</td>\n",
              "      <td>52.387160</td>\n",
              "      <td>39037</td>\n",
              "      <td>0.8880</td>\n",
              "      <td>32.4</td>\n",
              "    </tr>\n",
              "    <tr>\n",
              "      <th>8</th>\n",
              "      <td>Iceland carbon tax</td>\n",
              "      <td>34.834930</td>\n",
              "      <td>59264</td>\n",
              "      <td>0.8890</td>\n",
              "      <td>26.1</td>\n",
              "    </tr>\n",
              "    <tr>\n",
              "      <th>9</th>\n",
              "      <td>Ireland carbon tax</td>\n",
              "      <td>39.349100</td>\n",
              "      <td>85422</td>\n",
              "      <td>0.9160</td>\n",
              "      <td>30.6</td>\n",
              "    </tr>\n",
              "    <tr>\n",
              "      <th>10</th>\n",
              "      <td>Japan carbon tax</td>\n",
              "      <td>2.608539</td>\n",
              "      <td>40193</td>\n",
              "      <td>0.8910</td>\n",
              "      <td>32.9</td>\n",
              "    </tr>\n",
              "    <tr>\n",
              "      <th>11</th>\n",
              "      <td>Latvia carbon tax</td>\n",
              "      <td>14.095200</td>\n",
              "      <td>17619</td>\n",
              "      <td>0.8660</td>\n",
              "      <td>34.5</td>\n",
              "    </tr>\n",
              "    <tr>\n",
              "      <th>12</th>\n",
              "      <td>Liechtenstein carbon tax</td>\n",
              "      <td>101.474552</td>\n",
              "      <td>180366</td>\n",
              "      <td>0.9080</td>\n",
              "      <td>35.3</td>\n",
              "    </tr>\n",
              "    <tr>\n",
              "      <th>13</th>\n",
              "      <td>Luxembourg carbon tax</td>\n",
              "      <td>40.124336</td>\n",
              "      <td>116356</td>\n",
              "      <td>0.8920</td>\n",
              "      <td>34.2</td>\n",
              "    </tr>\n",
              "    <tr>\n",
              "      <th>14</th>\n",
              "      <td>Manitoba carbon tax</td>\n",
              "      <td>19.896538</td>\n",
              "      <td>51484</td>\n",
              "      <td>0.9050</td>\n",
              "      <td>33.3</td>\n",
              "    </tr>\n",
              "    <tr>\n",
              "      <th>15</th>\n",
              "      <td>Mexico carbon tax</td>\n",
              "      <td>3.179550</td>\n",
              "      <td>8329</td>\n",
              "      <td>0.7560</td>\n",
              "      <td>45.4</td>\n",
              "    </tr>\n",
              "    <tr>\n",
              "      <th>16</th>\n",
              "      <td>Netherlands carbon tax</td>\n",
              "      <td>35.238000</td>\n",
              "      <td>52396</td>\n",
              "      <td>0.8920</td>\n",
              "      <td>29.2</td>\n",
              "    </tr>\n",
              "    <tr>\n",
              "      <th>17</th>\n",
              "      <td>New Brunswick carbon tax</td>\n",
              "      <td>31.834460</td>\n",
              "      <td>49218</td>\n",
              "      <td>0.8980</td>\n",
              "      <td>33.3</td>\n",
              "    </tr>\n",
              "    <tr>\n",
              "      <th>18</th>\n",
              "      <td>Newfoundland and Labrador carbon tax</td>\n",
              "      <td>23.875850</td>\n",
              "      <td>71527</td>\n",
              "      <td>0.8940</td>\n",
              "      <td>33.3</td>\n",
              "    </tr>\n",
              "    <tr>\n",
              "      <th>19</th>\n",
              "      <td>Northwest Territories carbon tax</td>\n",
              "      <td>23.875846</td>\n",
              "      <td>100871</td>\n",
              "      <td>0.9240</td>\n",
              "      <td>33.3</td>\n",
              "    </tr>\n",
              "    <tr>\n",
              "      <th>20</th>\n",
              "      <td>Norway carbon tax</td>\n",
              "      <td>69.326326</td>\n",
              "      <td>67329</td>\n",
              "      <td>0.9570</td>\n",
              "      <td>27.7</td>\n",
              "    </tr>\n",
              "    <tr>\n",
              "      <th>21</th>\n",
              "      <td>Poland carbon tax</td>\n",
              "      <td>0.078624</td>\n",
              "      <td>15746</td>\n",
              "      <td>0.8430</td>\n",
              "      <td>30.2</td>\n",
              "    </tr>\n",
              "    <tr>\n",
              "      <th>22</th>\n",
              "      <td>Portugal carbon tax</td>\n",
              "      <td>28.190400</td>\n",
              "      <td>22194</td>\n",
              "      <td>0.8300</td>\n",
              "      <td>32.8</td>\n",
              "    </tr>\n",
              "    <tr>\n",
              "      <th>23</th>\n",
              "      <td>Prince Edward Island carbon tax</td>\n",
              "      <td>23.875850</td>\n",
              "      <td>48039</td>\n",
              "      <td>0.9240</td>\n",
              "      <td>33.4</td>\n",
              "    </tr>\n",
              "    <tr>\n",
              "      <th>24</th>\n",
              "      <td>Singapore carbon tax</td>\n",
              "      <td>3.713607</td>\n",
              "      <td>59797</td>\n",
              "      <td>0.9120</td>\n",
              "      <td>23.3</td>\n",
              "    </tr>\n",
              "    <tr>\n",
              "      <th>25</th>\n",
              "      <td>Slovenia carbon tax</td>\n",
              "      <td>20.320580</td>\n",
              "      <td>25489</td>\n",
              "      <td>0.8800</td>\n",
              "      <td>24.4</td>\n",
              "    </tr>\n",
              "    <tr>\n",
              "      <th>26</th>\n",
              "      <td>South Africa carbon tax</td>\n",
              "      <td>9.150943</td>\n",
              "      <td>5655</td>\n",
              "      <td>0.6660</td>\n",
              "      <td>63.0</td>\n",
              "    </tr>\n",
              "    <tr>\n",
              "      <th>27</th>\n",
              "      <td>Spain carbon tax</td>\n",
              "      <td>17.619000</td>\n",
              "      <td>27056</td>\n",
              "      <td>0.8760</td>\n",
              "      <td>34.3</td>\n",
              "    </tr>\n",
              "    <tr>\n",
              "      <th>28</th>\n",
              "      <td>Sweden carbon tax</td>\n",
              "      <td>137.243241</td>\n",
              "      <td>52274</td>\n",
              "      <td>0.9300</td>\n",
              "      <td>29.3</td>\n",
              "    </tr>\n",
              "    <tr>\n",
              "      <th>29</th>\n",
              "      <td>Switzerland carbon tax</td>\n",
              "      <td>101.474552</td>\n",
              "      <td>87100</td>\n",
              "      <td>0.9550</td>\n",
              "      <td>33.1</td>\n",
              "    </tr>\n",
              "    <tr>\n",
              "      <th>30</th>\n",
              "      <td>Tamaulipas carbon tax</td>\n",
              "      <td>12.720160</td>\n",
              "      <td>12160</td>\n",
              "      <td>0.7475</td>\n",
              "      <td>45.4</td>\n",
              "    </tr>\n",
              "    <tr>\n",
              "      <th>31</th>\n",
              "      <td>UK carbon price support</td>\n",
              "      <td>24.795000</td>\n",
              "      <td>41059</td>\n",
              "      <td>0.9070</td>\n",
              "      <td>35.1</td>\n",
              "    </tr>\n",
              "    <tr>\n",
              "      <th>32</th>\n",
              "      <td>Ukraine carbon tax</td>\n",
              "      <td>0.359420</td>\n",
              "      <td>3724</td>\n",
              "      <td>0.7470</td>\n",
              "      <td>25.6</td>\n",
              "    </tr>\n",
              "    <tr>\n",
              "      <th>33</th>\n",
              "      <td>Zacatecas carbon tax</td>\n",
              "      <td>12.230920</td>\n",
              "      <td>26469</td>\n",
              "      <td>0.7550</td>\n",
              "      <td>45.4</td>\n",
              "    </tr>\n",
              "    <tr>\n",
              "      <th>34</th>\n",
              "      <td>BRAZIL</td>\n",
              "      <td>NaN</td>\n",
              "      <td>6796</td>\n",
              "      <td>0.7550</td>\n",
              "      <td>48.9</td>\n",
              "    </tr>\n",
              "  </tbody>\n",
              "</table>\n",
              "</div>\n",
              "      <button class=\"colab-df-convert\" onclick=\"convertToInteractive('df-f5953610-d453-4c88-b484-98ed71e99e16')\"\n",
              "              title=\"Convert this dataframe to an interactive table.\"\n",
              "              style=\"display:none;\">\n",
              "        \n",
              "  <svg xmlns=\"http://www.w3.org/2000/svg\" height=\"24px\"viewBox=\"0 0 24 24\"\n",
              "       width=\"24px\">\n",
              "    <path d=\"M0 0h24v24H0V0z\" fill=\"none\"/>\n",
              "    <path d=\"M18.56 5.44l.94 2.06.94-2.06 2.06-.94-2.06-.94-.94-2.06-.94 2.06-2.06.94zm-11 1L8.5 8.5l.94-2.06 2.06-.94-2.06-.94L8.5 2.5l-.94 2.06-2.06.94zm10 10l.94 2.06.94-2.06 2.06-.94-2.06-.94-.94-2.06-.94 2.06-2.06.94z\"/><path d=\"M17.41 7.96l-1.37-1.37c-.4-.4-.92-.59-1.43-.59-.52 0-1.04.2-1.43.59L10.3 9.45l-7.72 7.72c-.78.78-.78 2.05 0 2.83L4 21.41c.39.39.9.59 1.41.59.51 0 1.02-.2 1.41-.59l7.78-7.78 2.81-2.81c.8-.78.8-2.07 0-2.86zM5.41 20L4 18.59l7.72-7.72 1.47 1.35L5.41 20z\"/>\n",
              "  </svg>\n",
              "      </button>\n",
              "      \n",
              "  <style>\n",
              "    .colab-df-container {\n",
              "      display:flex;\n",
              "      flex-wrap:wrap;\n",
              "      gap: 12px;\n",
              "    }\n",
              "\n",
              "    .colab-df-convert {\n",
              "      background-color: #E8F0FE;\n",
              "      border: none;\n",
              "      border-radius: 50%;\n",
              "      cursor: pointer;\n",
              "      display: none;\n",
              "      fill: #1967D2;\n",
              "      height: 32px;\n",
              "      padding: 0 0 0 0;\n",
              "      width: 32px;\n",
              "    }\n",
              "\n",
              "    .colab-df-convert:hover {\n",
              "      background-color: #E2EBFA;\n",
              "      box-shadow: 0px 1px 2px rgba(60, 64, 67, 0.3), 0px 1px 3px 1px rgba(60, 64, 67, 0.15);\n",
              "      fill: #174EA6;\n",
              "    }\n",
              "\n",
              "    [theme=dark] .colab-df-convert {\n",
              "      background-color: #3B4455;\n",
              "      fill: #D2E3FC;\n",
              "    }\n",
              "\n",
              "    [theme=dark] .colab-df-convert:hover {\n",
              "      background-color: #434B5C;\n",
              "      box-shadow: 0px 1px 3px 1px rgba(0, 0, 0, 0.15);\n",
              "      filter: drop-shadow(0px 1px 2px rgba(0, 0, 0, 0.3));\n",
              "      fill: #FFFFFF;\n",
              "    }\n",
              "  </style>\n",
              "\n",
              "      <script>\n",
              "        const buttonEl =\n",
              "          document.querySelector('#df-f5953610-d453-4c88-b484-98ed71e99e16 button.colab-df-convert');\n",
              "        buttonEl.style.display =\n",
              "          google.colab.kernel.accessAllowed ? 'block' : 'none';\n",
              "\n",
              "        async function convertToInteractive(key) {\n",
              "          const element = document.querySelector('#df-f5953610-d453-4c88-b484-98ed71e99e16');\n",
              "          const dataTable =\n",
              "            await google.colab.kernel.invokeFunction('convertToInteractive',\n",
              "                                                     [key], {});\n",
              "          if (!dataTable) return;\n",
              "\n",
              "          const docLinkHtml = 'Like what you see? Visit the ' +\n",
              "            '<a target=\"_blank\" href=https://colab.research.google.com/notebooks/data_table.ipynb>data table notebook</a>'\n",
              "            + ' to learn more about interactive tables.';\n",
              "          element.innerHTML = '';\n",
              "          dataTable['output_type'] = 'display_data';\n",
              "          await google.colab.output.renderOutput(dataTable, element);\n",
              "          const docLink = document.createElement('div');\n",
              "          docLink.innerHTML = docLinkHtml;\n",
              "          element.appendChild(docLink);\n",
              "        }\n",
              "      </script>\n",
              "    </div>\n",
              "  </div>\n",
              "  "
            ]
          },
          "metadata": {},
          "execution_count": 46
        }
      ]
    },
    {
      "cell_type": "code",
      "source": [
        "data.dtypes"
      ],
      "metadata": {
        "colab": {
          "base_uri": "https://localhost:8080/"
        },
        "id": "-DJhFlpANBje",
        "outputId": "a33292d2-25d1-44b6-cd67-f64d69b23a9a"
      },
      "execution_count": null,
      "outputs": [
        {
          "output_type": "execute_result",
          "data": {
            "text/plain": [
              "Name of the initiative     object\n",
              "Price_rate_1_2021         float64\n",
              "PIBPCT                      int64\n",
              "IDH                       float64\n",
              "GINI                      float64\n",
              "dtype: object"
            ]
          },
          "metadata": {},
          "execution_count": 47
        }
      ]
    },
    {
      "cell_type": "code",
      "source": [
        "data.isnull().sum()"
      ],
      "metadata": {
        "colab": {
          "base_uri": "https://localhost:8080/"
        },
        "id": "7QI07ThtPimt",
        "outputId": "3171d45f-261b-42c2-a31a-a54507db6205"
      },
      "execution_count": null,
      "outputs": [
        {
          "output_type": "execute_result",
          "data": {
            "text/plain": [
              "Name of the initiative    0\n",
              "Price_rate_1_2021         1\n",
              "PIBPCT                    0\n",
              "IDH                       0\n",
              "GINI                      0\n",
              "dtype: int64"
            ]
          },
          "metadata": {},
          "execution_count": 48
        }
      ]
    },
    {
      "cell_type": "code",
      "source": [
        "X = data.drop(['Price_rate_1_2021'], axis =1)"
      ],
      "metadata": {
        "id": "xvs456wlP6Ne"
      },
      "execution_count": null,
      "outputs": []
    },
    {
      "cell_type": "code",
      "source": [
        "y = data['Price_rate_1_2021']"
      ],
      "metadata": {
        "id": "lmFn4qzqTe8V"
      },
      "execution_count": null,
      "outputs": []
    },
    {
      "cell_type": "code",
      "source": [
        "X_train = X[:33]\n",
        "y_train = y[:33]"
      ],
      "metadata": {
        "id": "y8UPu-q-QntH"
      },
      "execution_count": null,
      "outputs": []
    },
    {
      "cell_type": "code",
      "source": [
        "X_test = X[33:]\n",
        "y_test = y[33:]"
      ],
      "metadata": {
        "id": "ittnd9YzTvd1"
      },
      "execution_count": null,
      "outputs": []
    },
    {
      "cell_type": "code",
      "source": [
        "le = preprocessing.LabelEncoder()\n",
        "le.fit(X_train['Name of the initiative'])\n",
        "(X_train['Name of the initiative'])= le.transform(X_train['Name of the initiative'])"
      ],
      "metadata": {
        "colab": {
          "base_uri": "https://localhost:8080/"
        },
        "id": "QpmAclWQUAyN",
        "outputId": "27d40c12-ea57-4410-ae57-d04c32447276"
      },
      "execution_count": null,
      "outputs": [
        {
          "output_type": "stream",
          "name": "stderr",
          "text": [
            "/usr/local/lib/python3.7/dist-packages/ipykernel_launcher.py:3: SettingWithCopyWarning: \n",
            "A value is trying to be set on a copy of a slice from a DataFrame.\n",
            "Try using .loc[row_indexer,col_indexer] = value instead\n",
            "\n",
            "See the caveats in the documentation: https://pandas.pydata.org/pandas-docs/stable/user_guide/indexing.html#returning-a-view-versus-a-copy\n",
            "  This is separate from the ipykernel package so we can avoid doing imports until\n"
          ]
        }
      ]
    },
    {
      "cell_type": "code",
      "source": [
        "le = preprocessing.LabelEncoder()\n",
        "le.fit(X_test['Name of the initiative'])\n",
        "(X_test['Name of the initiative'])= le.transform(X_test['Name of the initiative'])"
      ],
      "metadata": {
        "colab": {
          "base_uri": "https://localhost:8080/"
        },
        "id": "iClJfm_TVFWG",
        "outputId": "b355fc7d-57ba-431d-9756-6460cde19a2b"
      },
      "execution_count": null,
      "outputs": [
        {
          "output_type": "stream",
          "name": "stderr",
          "text": [
            "/usr/local/lib/python3.7/dist-packages/ipykernel_launcher.py:3: SettingWithCopyWarning: \n",
            "A value is trying to be set on a copy of a slice from a DataFrame.\n",
            "Try using .loc[row_indexer,col_indexer] = value instead\n",
            "\n",
            "See the caveats in the documentation: https://pandas.pydata.org/pandas-docs/stable/user_guide/indexing.html#returning-a-view-versus-a-copy\n",
            "  This is separate from the ipykernel package so we can avoid doing imports until\n"
          ]
        }
      ]
    },
    {
      "cell_type": "code",
      "source": [
        "X_train.info()"
      ],
      "metadata": {
        "colab": {
          "base_uri": "https://localhost:8080/"
        },
        "id": "4HcM4Ik4VRIe",
        "outputId": "0b7fcbae-1a93-40fe-c422-3602dda3087f"
      },
      "execution_count": null,
      "outputs": [
        {
          "output_type": "stream",
          "name": "stdout",
          "text": [
            "<class 'pandas.core.frame.DataFrame'>\n",
            "RangeIndex: 33 entries, 0 to 32\n",
            "Data columns (total 4 columns):\n",
            " #   Column                  Non-Null Count  Dtype  \n",
            "---  ------                  --------------  -----  \n",
            " 0   Name of the initiative  33 non-null     int64  \n",
            " 1   PIBPCT                  33 non-null     int64  \n",
            " 2   IDH                     33 non-null     float64\n",
            " 3   GINI                    33 non-null     float64\n",
            "dtypes: float64(2), int64(2)\n",
            "memory usage: 1.2 KB\n"
          ]
        }
      ]
    },
    {
      "cell_type": "code",
      "source": [
        "rf = RandomForestRegressor(criterion='squared_error', \n",
        "                             n_estimators= 50,\n",
        "                             min_samples_split=3,\n",
        "                             min_samples_leaf=1,\n",
        "                             max_features='auto',\n",
        "                             oob_score=True,\n",
        "                             random_state=1,\n",
        "                             n_jobs=-1)\n",
        "model_Random= rf.fit(X_train, y_train)\n",
        "\n",
        "pred_Random = model_Random.predict(X_test)"
      ],
      "metadata": {
        "id": "Vjilw1xuVWS2"
      },
      "execution_count": null,
      "outputs": []
    },
    {
      "cell_type": "code",
      "source": [
        "pred_Random"
      ],
      "metadata": {
        "colab": {
          "base_uri": "https://localhost:8080/"
        },
        "id": "fTH1myGHWPhH",
        "outputId": "42278e24-5b92-4762-fe51-5e0a55a5e04b"
      },
      "execution_count": null,
      "outputs": [
        {
          "output_type": "execute_result",
          "data": {
            "text/plain": [
              "array([12.82362665,  5.89120197])"
            ]
          },
          "metadata": {},
          "execution_count": 65
        }
      ]
    },
    {
      "cell_type": "code",
      "source": [
        "y_test"
      ],
      "metadata": {
        "colab": {
          "base_uri": "https://localhost:8080/"
        },
        "id": "4zwboYZCWWuH",
        "outputId": "e8d80559-eb56-4b6f-846d-ff654acca90a"
      },
      "execution_count": null,
      "outputs": [
        {
          "output_type": "execute_result",
          "data": {
            "text/plain": [
              "33    12.23092\n",
              "34         NaN\n",
              "Name: Price_rate_1_2021, dtype: float64"
            ]
          },
          "metadata": {},
          "execution_count": 66
        }
      ]
    }
  ]
}